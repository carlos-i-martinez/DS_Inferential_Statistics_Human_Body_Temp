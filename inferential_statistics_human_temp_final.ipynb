{
 "cells": [
  {
   "cell_type": "markdown",
   "metadata": {},
   "source": [
    "# What is the True Normal Human Body Temperature? \n",
    "\n",
    "#### Background\n",
    "\n",
    "The mean normal body temperature was held to be 37$^{\\circ}$C or 98.6$^{\\circ}$F for more than 120 years since it was first conceptualized and reported by Carl Wunderlich in a famous 1868 book. But, is this value statistically correct?"
   ]
  },
  {
   "cell_type": "markdown",
   "metadata": {},
   "source": [
    "<div class=\"span5 alert alert-info\">\n",
    "<h3>Exercises</h3>\n",
    "\n",
    "<p>In this exercise, you will analyze a dataset of human body temperatures and employ the concepts of hypothesis testing, confidence intervals, and statistical significance.</p>\n",
    "\n",
    "<p>Answer the following questions <b>in this notebook below and submit to your Github account</b>.</p> \n",
    "\n",
    "<ol>\n",
    "<li>  Is the distribution of body temperatures normal? \n",
    "    <ul>\n",
    "    <li> Although this is not a requirement for CLT to hold (read CLT carefully), it gives us some peace of mind that the population may also be normally distributed if we assume that this sample is representative of the population.\n",
    "    </ul>\n",
    "<li>  Is the sample size large? Are the observations independent?\n",
    "    <ul>\n",
    "    <li> Remember that this is a condition for the CLT, and hence the statistical tests we are using, to apply.\n",
    "    </ul>\n",
    "<li>  Is the true population mean really 98.6 degrees F?\n",
    "    <ul>\n",
    "    <li> Would you use a one-sample or two-sample test? Why?\n",
    "    <li> In this situation, is it appropriate to use the $t$ or $z$ statistic? \n",
    "    <li> Now try using the other test. How is the result be different? Why?\n",
    "    </ul>\n",
    "<li>  At what temperature should we consider someone's temperature to be \"abnormal\"?\n",
    "    <ul>\n",
    "    <li> Start by computing the margin of error and confidence interval.\n",
    "    </ul>\n",
    "<li>  Is there a significant difference between males and females in normal temperature?\n",
    "    <ul>\n",
    "    <li> What test did you use and why?\n",
    "    <li> Write a story with your conclusion in the context of the original problem.\n",
    "    </ul>\n",
    "</ol>\n",
    "\n",
    "You can include written notes in notebook cells using Markdown: \n",
    "   - In the control panel at the top, choose Cell > Cell Type > Markdown\n",
    "   - Markdown syntax: http://nestacms.com/docs/creating-content/markdown-cheat-sheet\n",
    "\n",
    "#### Resources\n",
    "\n",
    "+ Information and data sources: http://www.amstat.org/publications/jse/datasets/normtemp.txt, http://www.amstat.org/publications/jse/jse_data_archive.htm\n",
    "+ Markdown syntax: http://nestacms.com/docs/creating-content/markdown-cheat-sheet\n",
    "\n",
    "****\n",
    "</div>"
   ]
  },
  {
   "cell_type": "code",
   "execution_count": 1,
   "metadata": {},
   "outputs": [
    {
     "data": {
      "text/html": [
       "<div>\n",
       "<style>\n",
       "    .dataframe thead tr:only-child th {\n",
       "        text-align: right;\n",
       "    }\n",
       "\n",
       "    .dataframe thead th {\n",
       "        text-align: left;\n",
       "    }\n",
       "\n",
       "    .dataframe tbody tr th {\n",
       "        vertical-align: top;\n",
       "    }\n",
       "</style>\n",
       "<table border=\"1\" class=\"dataframe\">\n",
       "  <thead>\n",
       "    <tr style=\"text-align: right;\">\n",
       "      <th></th>\n",
       "      <th>temperature</th>\n",
       "      <th>gender</th>\n",
       "      <th>heart_rate</th>\n",
       "    </tr>\n",
       "  </thead>\n",
       "  <tbody>\n",
       "    <tr>\n",
       "      <th>0</th>\n",
       "      <td>99.3</td>\n",
       "      <td>F</td>\n",
       "      <td>68.0</td>\n",
       "    </tr>\n",
       "    <tr>\n",
       "      <th>1</th>\n",
       "      <td>98.4</td>\n",
       "      <td>F</td>\n",
       "      <td>81.0</td>\n",
       "    </tr>\n",
       "    <tr>\n",
       "      <th>2</th>\n",
       "      <td>97.8</td>\n",
       "      <td>M</td>\n",
       "      <td>73.0</td>\n",
       "    </tr>\n",
       "    <tr>\n",
       "      <th>3</th>\n",
       "      <td>99.2</td>\n",
       "      <td>F</td>\n",
       "      <td>66.0</td>\n",
       "    </tr>\n",
       "    <tr>\n",
       "      <th>4</th>\n",
       "      <td>98.0</td>\n",
       "      <td>F</td>\n",
       "      <td>73.0</td>\n",
       "    </tr>\n",
       "  </tbody>\n",
       "</table>\n",
       "</div>"
      ],
      "text/plain": [
       "   temperature gender  heart_rate\n",
       "0         99.3      F        68.0\n",
       "1         98.4      F        81.0\n",
       "2         97.8      M        73.0\n",
       "3         99.2      F        66.0\n",
       "4         98.0      F        73.0"
      ]
     },
     "execution_count": 1,
     "metadata": {},
     "output_type": "execute_result"
    }
   ],
   "source": [
    "import pandas as pd\n",
    "import scipy.stats as stats\n",
    "import math\n",
    "\n",
    "df = pd.read_csv('data/human_body_temperature.csv')\n",
    "df.head()"
   ]
  },
  {
   "cell_type": "markdown",
   "metadata": {},
   "source": [
    "<div>\n",
    "<h3>Exercises</h3>\n",
    "\n",
    "<ol>\n",
    "<li>  Is the distribution of body temperatures normal? \n",
    "    <ul>\n",
    "    <li> The distribution of body temperatures is normal because it follows the CLT rule of number of samples greater than 30.\n",
    "    <li> We first use python to check the number of samples.\n",
    "    <li> And to conclude we use the python method normaltest() to check the distribution.  Since the p-value is greater than .05 we can conclude that the distribution is normal(which is the null hypothesis of this method).\n",
    "    </ul>\n",
    "</div>"
   ]
  },
  {
   "cell_type": "code",
   "execution_count": 2,
   "metadata": {},
   "outputs": [
    {
     "name": "stdout",
     "output_type": "stream",
     "text": [
      "Number of samples: 130\n",
      "Pvalue:  0.258747986349\n"
     ]
    }
   ],
   "source": [
    "#create a dataframe with just the temperature values\n",
    "temp = df.temperature\n",
    "\n",
    "# Print the number of samples using len() method\n",
    "print(\"Number of samples:\",len(temp))\n",
    "\n",
    "# Use the normaltest() method to check if the distribution is normal\n",
    "tvalue, pvalue =stats.normaltest(temp)\n",
    "\n",
    "# Print the pvalue\n",
    "print(\"Pvalue: \",pvalue)"
   ]
  },
  {
   "cell_type": "markdown",
   "metadata": {},
   "source": [
    "<div>\n",
    "<h3>Exercises</h3>\n",
    "\n",
    "<p>2. Is the sample size large? Are the observations independent? \n",
    "    <ul>\n",
    "    <li> As mentioned earlier the sample size is larger than 30, which makes the sample sufficient for tests.\n",
    "    <li> The observation values are independent because they come from different people.\n",
    "    </ul>\n",
    "</div>"
   ]
  },
  {
   "cell_type": "markdown",
   "metadata": {
    "collapsed": true
   },
   "source": [
    "<div>\n",
    "<h3>Exercises</h3>\n",
    "\n",
    "<p>3.  Is the true population mean really 98.6 degrees F?\n",
    "    <ul>\n",
    "    <li> Would you use a one-sample or two-sample test? Why?\n",
    "    <ul>Since we have only one group of samples, I will use a one-sample type of test.</ul>\n",
    "    <li>In this situation, is it appropriate to use the $t$ or $z$ statistic?\n",
    "    <ul>We have more than 30 samples we can use the $z$ statistics.</ul>\n",
    "    <li> Now try using the other test. How is the result be different? Why?\n",
    "    <ul> I was also able to use the $t$ statistic since $t$ behaves like a normal dist with large number of samples.</ul>\n",
    "    </ul>\n",
    "    </div>"
   ]
  },
  {
   "cell_type": "markdown",
   "metadata": {},
   "source": [
    "<div>\n",
    "<p>First, I use the z statistic to determine if 98.6 is the true population mean.\n",
    "    <ul>\n",
    "    <li> The z-test method gives the z value and the pvalue of the distribution.\n",
    "    <li> With the Null Hypothesis that 98.6 is the true mean we calculate the pvalue.\n",
    "    </ul>\n",
    "    </div>"
   ]
  },
  {
   "cell_type": "code",
   "execution_count": 3,
   "metadata": {},
   "outputs": [
    {
     "name": "stdout",
     "output_type": "stream",
     "text": [
      "z-statistic:  -5.4548232923645195 \n",
      "p-value:  2.4510785070506077e-08\n"
     ]
    }
   ],
   "source": [
    "\n",
    "from statsmodels.stats import weightstats\n",
    "\n",
    "#Use the ztest() method to calculate the pvalue.\n",
    "z,p = weightstats.ztest(temp,value = 98.6, usevar='pooled', ddof=1.0)\n",
    "print('z-statistic:  {z} \\np-value:  {p}'.format(z=z,p=p/2))"
   ]
  },
  {
   "cell_type": "markdown",
   "metadata": {},
   "source": [
    "<div>\n",
    "\n",
    "<p>From the z test method used we have a pvalue of less than .05(or 5% significance)\n",
    "    <ul>\n",
    "    <li> With this pvalue we can reject the Null Hypothesis that the true mean of the population is 98.6.\n",
    "    </ul>\n",
    "    </div>"
   ]
  },
  {
   "cell_type": "code",
   "execution_count": 4,
   "metadata": {},
   "outputs": [
    {
     "name": "stdout",
     "output_type": "stream",
     "text": [
      "t-statistic:  -5.4548232923645195 \n",
      "p-value:  1.2053160207780638e-07\n"
     ]
    }
   ],
   "source": [
    "# Now we use the sample procedure and calculate the t statistic.\n",
    "t,p = stats.ttest_1samp(temp,98.6)\n",
    "print('t-statistic:  {t} \\np-value:  {p}'.format(t=t,p=p/2))"
   ]
  },
  {
   "cell_type": "markdown",
   "metadata": {},
   "source": [
    "<div>\n",
    "\n",
    "<p>From the t test method used we also have a pvalue of less than .05(or 5% significance)\n",
    "    <ul>\n",
    "    <li> This method also gives very similar pvalue as the z test.\n",
    "    <li> With this pvalue we can reject the Null Hypothesis that the true mean of the population is 98.6.\n",
    "    <li> The true mean of the population is NOT 98.6 F\n",
    "    </ul>\n",
    "    </div>"
   ]
  },
  {
   "cell_type": "markdown",
   "metadata": {},
   "source": [
    "<div>\n",
    "<h3>Exercises</h3>\n",
    "\n",
    "<p>4.At what temperature should we consider someone's temperature to be \"abnormal\"?\n",
    "    <ul>\n",
    "    <li> We first need to calculate the 95% confidence interval.\n",
    "    <li> We will calculate standard deviation,zvalue, margin of error, standard error.\n",
    "    </ul>\n",
    "</div>"
   ]
  },
  {
   "cell_type": "code",
   "execution_count": 5,
   "metadata": {},
   "outputs": [
    {
     "name": "stdout",
     "output_type": "stream",
     "text": [
      "z-value(95% confidence):  1.959963984540054 \n",
      "Margin of Error:  0.1260343410491174\n",
      "Confidence Invertal(95%): (98.123196428181657, 98.375265110279898)\n"
     ]
    }
   ],
   "source": [
    "\n",
    "#First calculate the z value using the ppf() method with a q = .975(which is the 95% confidence interval)\n",
    "z_value = stats.norm.ppf(q = 0.975)  # Get the z-value for a 95% confidence interval*\n",
    "\n",
    "#sample size\n",
    "sample_size = len(temp)\n",
    "\n",
    "#mean value of the sample\n",
    "sample_mean = temp.mean()\n",
    "\n",
    "#standard deviation\n",
    "stdev = temp.std() \n",
    "\n",
    "#margin of error\n",
    "margin_of_error = z_value * (stdev/math.sqrt(sample_size))  \n",
    "\n",
    "#standard error\n",
    "sem = stdev/math.sqrt(sample_size)\n",
    "\n",
    "#95% confidence interval\n",
    "confidence_interval = (sample_mean - margin_of_error,\n",
    "                       sample_mean + margin_of_error)\n",
    "\n",
    "print('z-value(95% confidence):  {z} \\nMargin of Error:  {m}\\nConfidence Invertal(95%): {c}'.format(z=z_value,m=margin_of_error,c=confidence_interval))"
   ]
  },
  {
   "cell_type": "markdown",
   "metadata": {},
   "source": [
    "<div>\n",
    "\n",
    "<p>As we can see from the above results of the confidence of interval?\n",
    "    <ul>\n",
    "    <li> The low temperature of the 95% confidence interval is 98.12 F and the high value is 98.37 F.\n",
    "    <li> Any body temperature that is below 98.12 F or above 98.37 F is considered ABNORMAL according to this sample statistic.\n",
    "    </ul>\n",
    "</div>"
   ]
  },
  {
   "cell_type": "markdown",
   "metadata": {},
   "source": [
    "<div>\n",
    "<h3>Exercises</h3>\n",
    "<p>5. Is there a significant difference between males and females in normal temperature?\n",
    "    <ul>\n",
    "    <li> What test did you use and why?\n",
    "    <li> Write a story with your conclusion in the context of the original problem.\n",
    "    </ul>\n",
    "    </div>"
   ]
  },
  {
   "cell_type": "markdown",
   "metadata": {},
   "source": [
    "<div>\n",
    "<p>To answer this question I will do the following steps.\n",
    "    <ul>\n",
    "    <li> Separate the data from males and females.\n",
    "    <li> We will use 2 sample ztest method in python that compares the means of two groups of data.\n",
    "    <li> The Null Hyphothesis is that both means are equal and the pvalue will tell us if rejection is needed.\n",
    "    </ul>\n",
    "    </div>"
   ]
  },
  {
   "cell_type": "code",
   "execution_count": 6,
   "metadata": {},
   "outputs": [
    {
     "name": "stdout",
     "output_type": "stream",
     "text": [
      "z-statistic:  -2.2854345381656103 \n",
      "p-value:  0.011143680380328775\n"
     ]
    }
   ],
   "source": [
    "\n",
    "\n",
    "# 2 sample z test is used.  We separate the data by gender.\n",
    "\n",
    "# separate the data in to two groups depending on gender\n",
    "male_temp = df[df['gender'] == 'M']['temperature']\n",
    "female_temp = df[df['gender']== 'F']['temperature']\n",
    "\n",
    "# use the z test method ztest() to calculate the pvalue of difference in means of the two groups.\n",
    "z,p = weightstats.ztest(male_temp, female_temp, value = 0, usevar='pooled', ddof=1.0)\n",
    "print('z-statistic:  {z} \\np-value:  {p}'.format(z=z,p=p/2))\n",
    "\n"
   ]
  },
  {
   "cell_type": "markdown",
   "metadata": {},
   "source": [
    "<div>\n",
    "<p>As we can see the z-statistic value is -2.285 and the pvalue is .011.\n",
    "    <ul>\n",
    "    <li> Since the pvalue is less than our 5% significance(p $<$ .05), we can reject the Null Hypothesis of equal means.\n",
    "    <li> We can conclude that there is a significant diference in body temperature between males and females.\n",
    "    </ul>\n",
    "    </div>"
   ]
  }
 ],
 "metadata": {
  "kernelspec": {
   "display_name": "Python 3",
   "language": "python",
   "name": "python3"
  },
  "language_info": {
   "codemirror_mode": {
    "name": "ipython",
    "version": 3
   },
   "file_extension": ".py",
   "mimetype": "text/x-python",
   "name": "python",
   "nbconvert_exporter": "python",
   "pygments_lexer": "ipython3",
   "version": "3.6.1"
  }
 },
 "nbformat": 4,
 "nbformat_minor": 1
}
